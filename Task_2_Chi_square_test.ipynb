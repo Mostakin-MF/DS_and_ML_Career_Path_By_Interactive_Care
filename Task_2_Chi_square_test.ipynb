{
 "cells": [
  {
   "cell_type": "code",
   "execution_count": 1,
   "id": "4b00784b",
   "metadata": {},
   "outputs": [],
   "source": [
    "import pandas as pd\n",
    "import numpy as np\n",
    "import matplotlib.pyplot as plt\n",
    "from scipy.stats import chi2_contingency"
   ]
  },
  {
   "cell_type": "code",
   "execution_count": 2,
   "id": "58e1d551",
   "metadata": {},
   "outputs": [],
   "source": [
    "# Create a synthetic dataset\n",
    "np.random.seed(42)\n",
    "n = 500\n",
    "gender = np.random.choice(['Male', 'Female'], size=n)\n",
    "preference = np.random.choice(['Product A', 'Product B', 'Product C'], size=n, p=[0.4, 0.4, 0.2])\n"
   ]
  },
  {
   "cell_type": "code",
   "execution_count": 4,
   "id": "b366cded",
   "metadata": {},
   "outputs": [
    {
     "data": {
      "text/html": [
       "<div>\n",
       "<style scoped>\n",
       "    .dataframe tbody tr th:only-of-type {\n",
       "        vertical-align: middle;\n",
       "    }\n",
       "\n",
       "    .dataframe tbody tr th {\n",
       "        vertical-align: top;\n",
       "    }\n",
       "\n",
       "    .dataframe thead th {\n",
       "        text-align: right;\n",
       "    }\n",
       "</style>\n",
       "<table border=\"1\" class=\"dataframe\">\n",
       "  <thead>\n",
       "    <tr style=\"text-align: right;\">\n",
       "      <th></th>\n",
       "      <th>Gender</th>\n",
       "      <th>Preference</th>\n",
       "    </tr>\n",
       "  </thead>\n",
       "  <tbody>\n",
       "    <tr>\n",
       "      <th>0</th>\n",
       "      <td>Male</td>\n",
       "      <td>Product A</td>\n",
       "    </tr>\n",
       "    <tr>\n",
       "      <th>1</th>\n",
       "      <td>Female</td>\n",
       "      <td>Product A</td>\n",
       "    </tr>\n",
       "    <tr>\n",
       "      <th>2</th>\n",
       "      <td>Male</td>\n",
       "      <td>Product C</td>\n",
       "    </tr>\n",
       "    <tr>\n",
       "      <th>3</th>\n",
       "      <td>Male</td>\n",
       "      <td>Product A</td>\n",
       "    </tr>\n",
       "    <tr>\n",
       "      <th>4</th>\n",
       "      <td>Male</td>\n",
       "      <td>Product A</td>\n",
       "    </tr>\n",
       "    <tr>\n",
       "      <th>...</th>\n",
       "      <td>...</td>\n",
       "      <td>...</td>\n",
       "    </tr>\n",
       "    <tr>\n",
       "      <th>495</th>\n",
       "      <td>Male</td>\n",
       "      <td>Product C</td>\n",
       "    </tr>\n",
       "    <tr>\n",
       "      <th>496</th>\n",
       "      <td>Male</td>\n",
       "      <td>Product A</td>\n",
       "    </tr>\n",
       "    <tr>\n",
       "      <th>497</th>\n",
       "      <td>Female</td>\n",
       "      <td>Product B</td>\n",
       "    </tr>\n",
       "    <tr>\n",
       "      <th>498</th>\n",
       "      <td>Male</td>\n",
       "      <td>Product C</td>\n",
       "    </tr>\n",
       "    <tr>\n",
       "      <th>499</th>\n",
       "      <td>Female</td>\n",
       "      <td>Product B</td>\n",
       "    </tr>\n",
       "  </tbody>\n",
       "</table>\n",
       "<p>500 rows × 2 columns</p>\n",
       "</div>"
      ],
      "text/plain": [
       "     Gender Preference\n",
       "0      Male  Product A\n",
       "1    Female  Product A\n",
       "2      Male  Product C\n",
       "3      Male  Product A\n",
       "4      Male  Product A\n",
       "..      ...        ...\n",
       "495    Male  Product C\n",
       "496    Male  Product A\n",
       "497  Female  Product B\n",
       "498    Male  Product C\n",
       "499  Female  Product B\n",
       "\n",
       "[500 rows x 2 columns]"
      ]
     },
     "execution_count": 4,
     "metadata": {},
     "output_type": "execute_result"
    }
   ],
   "source": [
    "df = pd.DataFrame({'Gender': gender, 'Preference': preference})\n",
    "df"
   ]
  },
  {
   "cell_type": "code",
   "execution_count": 5,
   "id": "0b8e8b0c",
   "metadata": {},
   "outputs": [
    {
     "name": "stdout",
     "output_type": "stream",
     "text": [
      "Sample Data:\n",
      "   Gender Preference\n",
      "0    Male  Product A\n",
      "1  Female  Product A\n",
      "2    Male  Product C\n",
      "3    Male  Product A\n",
      "4    Male  Product A\n"
     ]
    }
   ],
   "source": [
    "print(\"Sample Data:\")\n",
    "print(df.head())"
   ]
  },
  {
   "cell_type": "code",
   "execution_count": 6,
   "id": "13686297",
   "metadata": {},
   "outputs": [
    {
     "name": "stdout",
     "output_type": "stream",
     "text": [
      "\n",
      "Contingency Table:\n",
      "Preference  Product A  Product B  Product C\n",
      "Gender                                     \n",
      "Female            105        106         45\n",
      "Male              100         86         58\n"
     ]
    }
   ],
   "source": [
    "contingency_table = pd.crosstab(df['Gender'], df['Preference'])\n",
    "print(\"\\nContingency Table:\")\n",
    "print(contingency_table)\n"
   ]
  },
  {
   "cell_type": "code",
   "execution_count": 7,
   "id": "b2c36f9b",
   "metadata": {},
   "outputs": [],
   "source": [
    "#  Perform Chi-square test\n",
    "chi2, p, dof, expected = chi2_contingency(contingency_table)"
   ]
  },
  {
   "cell_type": "code",
   "execution_count": 8,
   "id": "bc015778",
   "metadata": {},
   "outputs": [
    {
     "name": "stdout",
     "output_type": "stream",
     "text": [
      "\n",
      "Chi-Square Statistic: 3.5601\n",
      "Degrees of Freedom: 2\n",
      "P-value: 0.1686\n"
     ]
    }
   ],
   "source": [
    "# showing the result\n",
    "print(f\"\\nChi-Square Statistic: {chi2:.4f}\")\n",
    "print(f\"Degrees of Freedom: {dof}\")\n",
    "print(f\"P-value: {p:.4f}\")"
   ]
  },
  {
   "cell_type": "markdown",
   "id": "aba3e5c3",
   "metadata": {},
   "source": [
    "**Our goal is to examine the claim that the uniqueness of the packaging affects the propensity of consumers to buy the product based on the packaging.**Therefore, the null and alternative hypotheses can be formulated as follows:\n",
    "\n",
    "- H0: **There is not associated with with gender and preference**\n",
    "- H1: **There is a associated with with gender and preference**"
   ]
  },
  {
   "cell_type": "code",
   "execution_count": 9,
   "id": "37df0790",
   "metadata": {},
   "outputs": [
    {
     "name": "stdout",
     "output_type": "stream",
     "text": [
      "\n",
      "Expected Frequencies:\n",
      "Preference  Product A  Product B  Product C\n",
      "Gender                                     \n",
      "Female         104.96     98.304     52.736\n",
      "Male           100.04     93.696     50.264\n"
     ]
    }
   ],
   "source": [
    "# expected Frequency \n",
    "expected_df = pd.DataFrame(expected, index=contingency_table.index, columns=contingency_table.columns)\n",
    "print(\"\\nExpected Frequencies:\")\n",
    "print(expected_df)"
   ]
  },
  {
   "cell_type": "code",
   "execution_count": 10,
   "id": "6961ac44",
   "metadata": {},
   "outputs": [
    {
     "name": "stdout",
     "output_type": "stream",
     "text": [
      "\n",
      "Conclusion: Fail to reject the null hypothesis. There is no significant association between gender and product preference.\n"
     ]
    }
   ],
   "source": [
    "#Conclusion\n",
    "alpha = 0.05\n",
    "if p < alpha:\n",
    "    print(\"\\nConclusion: Reject the null hypothesis. There is a significant association between gender and product preference.\")\n",
    "else:\n",
    "    print(\"\\nConclusion: Fail to reject the null hypothesis. There is no significant association between gender and product preference.\")"
   ]
  }
 ],
 "metadata": {
  "kernelspec": {
   "display_name": "Python 3",
   "language": "python",
   "name": "python3"
  },
  "language_info": {
   "codemirror_mode": {
    "name": "ipython",
    "version": 3
   },
   "file_extension": ".py",
   "mimetype": "text/x-python",
   "name": "python",
   "nbconvert_exporter": "python",
   "pygments_lexer": "ipython3",
   "version": "3.12.4"
  }
 },
 "nbformat": 4,
 "nbformat_minor": 5
}
