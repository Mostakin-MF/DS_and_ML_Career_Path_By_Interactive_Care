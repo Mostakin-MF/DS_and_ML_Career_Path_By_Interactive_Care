{
 "cells": [
  {
   "cell_type": "code",
   "execution_count": 1,
   "id": "8b5b5fb6",
   "metadata": {},
   "outputs": [],
   "source": [
    "import numpy as np\n",
    "import pandas as pd\n",
    "import seaborn as sns\n",
    "from scipy import stats\n",
    "import matplotlib.pyplot as plt"
   ]
  },
  {
   "cell_type": "code",
   "execution_count": 3,
   "id": "57825c37",
   "metadata": {},
   "outputs": [],
   "source": [
    "# Generate synthetic datasets\n",
    "np.random.seed(42)\n",
    "\n",
    "# Drug effectiveness (t-test)\n",
    "group1 = np.random.normal(5.2, 1.5, 30)  # Control group\n",
    "group2 = np.random.normal(6.0, 1.5, 30)  # Treatment group"
   ]
  },
  {
   "cell_type": "markdown",
   "id": "0438fd86",
   "metadata": {},
   "source": [
    "\n",
    "### 1. Independent t-test Example (Drug Effectiveness)\n",
    "**Hypotheses**:\n",
    "- H₀: No difference in means between control and treatment groups (μ₁ = μ₂)\n",
    "- H₁: Significant difference exists (μ₁ ≠ μ₂)"
   ]
  },
  {
   "cell_type": "markdown",
   "id": "fd28ef4a",
   "metadata": {},
   "source": [
    "**Assumption Checks**:\n",
    "# Check normality\n"
   ]
  },
  {
   "cell_type": "code",
   "execution_count": null,
   "id": "9978b6af",
   "metadata": {},
   "outputs": [
    {
     "name": "stdout",
     "output_type": "stream",
     "text": [
      "Normality Results:\n",
      "ShapiroResult(statistic=np.float64(0.9751383104692292), pvalue=np.float64(0.6868054942917083))\n",
      "ShapiroResult(statistic=np.float64(0.9836958322604062), pvalue=np.float64(0.9129582559088101))\n"
     ]
    }
   ],
   "source": [
    "print(\"Normality Results:\")\n",
    "print(stats.shapiro(group1))  \n",
    "print(stats.shapiro(group2))"
   ]
  },
  {
   "cell_type": "code",
   "execution_count": 5,
   "id": "9925dd9a",
   "metadata": {},
   "outputs": [
    {
     "name": "stdout",
     "output_type": "stream",
     "text": [
      "\n",
      "Variance Homogeneity:\n",
      "LeveneResult(statistic=np.float64(0.24520424409673122), pvalue=np.float64(0.6223432008475429))\n"
     ]
    }
   ],
   "source": [
    "# Check homogeneity of variances\n",
    "print(\"\\nVariance Homogeneity:\")\n",
    "print(stats.levene(group1, group2))"
   ]
  },
  {
   "cell_type": "code",
   "execution_count": 6,
   "id": "3ecf8537",
   "metadata": {},
   "outputs": [
    {
     "name": "stdout",
     "output_type": "stream",
     "text": [
      "\n",
      "Parametric t-test Results:\n",
      "TtestResult(statistic=np.float64(-2.539101690846068), pvalue=np.float64(0.0138181020968138), df=np.float64(58.0))\n"
     ]
    }
   ],
   "source": [
    "if all([p > 0.05 for p in [stats.shapiro(group1)[1], stats.shapiro(group2)[1]]]):\n",
    "    print(\"\\nParametric t-test Results:\")\n",
    "    print(stats.ttest_ind(group1, group2))\n",
    "else:\n",
    "    print(\"\\nNon-parametric Mann-Whitney Results:\")\n",
    "    print(stats.mannwhitneyu(group1, group2))"
   ]
  },
  {
   "cell_type": "markdown",
   "id": "ddc5fd7a",
   "metadata": {},
   "source": [
    "# Based on p < 0.05? Reject null hypothesis\n"
   ]
  }
 ],
 "metadata": {
  "kernelspec": {
   "display_name": "Python 3",
   "language": "python",
   "name": "python3"
  },
  "language_info": {
   "codemirror_mode": {
    "name": "ipython",
    "version": 3
   },
   "file_extension": ".py",
   "mimetype": "text/x-python",
   "name": "python",
   "nbconvert_exporter": "python",
   "pygments_lexer": "ipython3",
   "version": "3.12.4"
  }
 },
 "nbformat": 4,
 "nbformat_minor": 5
}
