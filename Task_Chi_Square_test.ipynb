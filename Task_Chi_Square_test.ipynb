{
 "cells": [
  {
   "cell_type": "markdown",
   "id": "932e1e56",
   "metadata": {},
   "source": [
    "Example:\n",
    "Suppose you want to know if smoking status (smoker/non-smoker) is independent of exercise habits (regular/irregular).\n",
    "\n",
    "                | Regular Exercise | Irregular Exercise | Total\n",
    "Smoker          | 40               | 60                 | 100\n",
    "Non-Smoker      | 90               | 30                 | 120\n",
    "Total           | 130              | 90                 | 220"
   ]
  },
  {
   "cell_type": "code",
   "execution_count": 1,
   "id": "65a8d3d3",
   "metadata": {},
   "outputs": [],
   "source": [
    "import numpy as np\n",
    "from scipy.stats import chi2_contingency"
   ]
  },
  {
   "cell_type": "code",
   "execution_count": 2,
   "id": "e9fdb567",
   "metadata": {},
   "outputs": [],
   "source": [
    "contingency_table = np.array([\n",
    "    [40, 60],\n",
    "    [90, 30]\n",
    "])"
   ]
  },
  {
   "cell_type": "code",
   "execution_count": 3,
   "id": "c09dc9d4",
   "metadata": {},
   "outputs": [],
   "source": [
    "# Perform the Chi-square test\n",
    "chi2, p, dof, expected = chi2_contingency(contingency_table)"
   ]
  },
  {
   "cell_type": "code",
   "execution_count": 4,
   "id": "b13b2122",
   "metadata": {},
   "outputs": [
    {
     "name": "stdout",
     "output_type": "stream",
     "text": [
      "Chi-square Statistic: 26.212122507122515\n",
      "p-value: 3.0589620968846215e-07\n",
      "Degrees of Freedom: 1\n",
      "Expected Frequencies:\n",
      " [[59.09090909 40.90909091]\n",
      " [70.90909091 49.09090909]]\n"
     ]
    }
   ],
   "source": [
    "print(\"Chi-square Statistic:\", chi2)\n",
    "print(\"p-value:\", p)\n",
    "print(\"Degrees of Freedom:\", dof)\n",
    "print(\"Expected Frequencies:\\n\", expected)"
   ]
  },
  {
   "cell_type": "code",
   "execution_count": 5,
   "id": "a5635c5f",
   "metadata": {},
   "outputs": [
    {
     "name": "stdout",
     "output_type": "stream",
     "text": [
      "Reject the null hypothesis: variables are dependent (associated).\n"
     ]
    }
   ],
   "source": [
    "# Interpret the result\n",
    "alpha = 0.05\n",
    "if p < alpha:\n",
    "    print(\"Reject the null hypothesis: variables are dependent (associated).\")\n",
    "else:\n",
    "    print(\"Fail to reject the null hypothesis: variables are independent.\")"
   ]
  }
 ],
 "metadata": {
  "kernelspec": {
   "display_name": "Python 3",
   "language": "python",
   "name": "python3"
  },
  "language_info": {
   "codemirror_mode": {
    "name": "ipython",
    "version": 3
   },
   "file_extension": ".py",
   "mimetype": "text/x-python",
   "name": "python",
   "nbconvert_exporter": "python",
   "pygments_lexer": "ipython3",
   "version": "3.12.4"
  }
 },
 "nbformat": 4,
 "nbformat_minor": 5
}
